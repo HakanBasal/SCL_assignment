{
 "cells": [
  {
   "cell_type": "code",
   "execution_count": 22,
   "metadata": {},
   "outputs": [
    {
     "data": {
      "text/plain": [
       "12"
      ]
     },
     "execution_count": 22,
     "metadata": {},
     "output_type": "execute_result"
    }
   ],
   "source": [
    "import pandas as pd\n",
    "# Defining sets and parameters\n",
    "\n",
    "# factories\n",
    "F = [\"IJmuiden\", \"Segal\",\"South Wales\"] \n",
    "\n",
    "# types of rebars and lengths\n",
    "rebars = {      \n",
    "    \"A\": {\"length\": 2.4},\n",
    "    \"B\": {\"length\": 3.6},\n",
    "    \"C\": {\"length\": 4.2}\n",
    "} \n",
    "\n",
    "# types of long bars and lengths\n",
    "longbars = {\n",
    "    1: {\"length\": 9},\n",
    "    2: {\"length\": 12}\n",
    "}\n",
    "\n",
    "diameter=0.057 #in meters\n",
    "density=7.85 #tons/m^3\n",
    "\n",
    "# production capacity in tonnes per period\n",
    "production_capacity = {\n",
    "    \"IJmuiden\": 12,   \n",
    "    \"Segal\": 10,\n",
    "    \"South Wales\": 28\n",
    "}\n",
    "\n",
    "# customer areas\n",
    "customers = [\"Bochum\", \"Boenen\", \"Dortmund\", \"Gelsenkirchen\", \"Hagen\", \"Iserlohn\", \"Neuss\", \"Schwerte\"]\n",
    "\n",
    "\n",
    "# time periods\n",
    "periods = [1,2,3,4]\n",
    "\n",
    "\n",
    "# demand for each type of rebar\n",
    "demand = {}\n",
    "demand[\"A\"] = {\n",
    "    \"Period\": [1, 2, 3, 4],\n",
    "    \"Bochum\": [2, 6, 5, 3],\n",
    "    \"Boenen\": [4, 8, 5, 10],\n",
    "    \"Dortmund\": [2, 7, 6, 5],\n",
    "    \"Gelsenkirchen\": [5, 5, 5, 5],\n",
    "    \"Hagen\": [19, 23, 25, 16],\n",
    "    \"Iserlohn\": [13, 19, 17, 14],\n",
    "    \"Neuss\": [20, 16, 14, 26],\n",
    "    \"Schwerte\": [4, 5, 3, 4]\n",
    "}\n",
    "\n",
    "demand[\"B\"] = {\n",
    "    \"Period\": [1, 2, 3, 4],\n",
    "    \"Bochum\": [4, 5, 7, 8],\n",
    "    \"Boenen\": [5, 8, 12, 13],\n",
    "    \"Dortmund\": [4, 5, 8, 10],\n",
    "    \"Gelsenkirchen\": [9, 10, 6, 6],\n",
    "    \"Hagen\": [15, 33, 31, 33],\n",
    "    \"Iserlohn\": [22, 26, 20, 27],\n",
    "    \"Neuss\": [12, 23, 30, 30],\n",
    "    \"Schwerte\": [2, 8, 2, 6]\n",
    "}\n",
    "\n",
    "demand[\"C\"] = {\n",
    "    \"Period\": [1, 2, 3, 4],\n",
    "    \"Bochum\": [6, 7, 7, 7],\n",
    "    \"Boenen\": [6, 10, 15, 12],\n",
    "    \"Dortmund\": [7, 6, 4, 12],\n",
    "    \"Gelsenkirchen\": [10, 9, 9, 10],\n",
    "    \"Hagen\": [12, 35, 33, 38],\n",
    "    \"Iserlohn\": [14, 25, 23, 24],\n",
    "    \"Neuss\": [22, 32, 31, 31],\n",
    "    \"Schwerte\": [5, 6, 7, 2]\n",
    "}\n",
    "\n",
    "demand[\"B\"][\"Neuss\"][0]\n",
    "\n"
   ]
  },
  {
   "cell_type": "code",
   "execution_count": null,
   "metadata": {},
   "outputs": [],
   "source": []
  },
  {
   "cell_type": "code",
   "execution_count": null,
   "metadata": {},
   "outputs": [],
   "source": []
  }
 ],
 "metadata": {
  "kernelspec": {
   "display_name": "Python [conda env:base] *",
   "language": "python",
   "name": "conda-base-py"
  },
  "language_info": {
   "codemirror_mode": {
    "name": "ipython",
    "version": 3
   },
   "file_extension": ".py",
   "mimetype": "text/x-python",
   "name": "python",
   "nbconvert_exporter": "python",
   "pygments_lexer": "ipython3",
   "version": "3.12.2"
  }
 },
 "nbformat": 4,
 "nbformat_minor": 4
}
